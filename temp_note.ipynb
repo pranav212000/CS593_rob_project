{
 "cells": [
  {
   "cell_type": "code",
   "execution_count": 3,
   "metadata": {},
   "outputs": [
    {
     "name": "stdout",
     "output_type": "stream",
     "text": [
      "(39015, 7)\n",
      "(37871, 7)\n",
      "(34012, 7)\n",
      "(40136, 7)\n",
      "(32092, 7)\n",
      "(28692, 7)\n",
      "(33055, 7)\n",
      "(37766, 7)\n",
      "(38902, 7)\n",
      "(31963, 7)\n",
      "28692\n",
      "353504\n"
     ]
    }
   ],
   "source": [
    "import pickle\n",
    "import numpy as np\n",
    "\n",
    "m = float('inf')\n",
    "total = 0\n",
    "for i in range(10):\n",
    "    \n",
    "    try:\n",
    "        with open('2d/{}/dataset.pkl'.format(i), 'rb') as f:\n",
    "            dataset = pickle.load(f)\n",
    "            # print(dataset[-1])\n",
    "\n",
    "        dataset = np.array(dataset)\n",
    "        # print(dataset[0:10])\n",
    "        # print(i)\n",
    "        print(dataset.shape)\n",
    "\n",
    "        m = min(m, dataset.shape[0])\n",
    "        total += dataset.shape[0]\n",
    "    except:\n",
    "        pass\n",
    "\n",
    "        \n",
    "\n",
    "    # break\n",
    "\n",
    "\n",
    "print(m)\n",
    "print(total)"
   ]
  },
  {
   "cell_type": "code",
   "execution_count": 4,
   "metadata": {},
   "outputs": [
    {
     "name": "stdout",
     "output_type": "stream",
     "text": [
      "slurm-20141.out\n"
     ]
    },
    {
     "ename": "FileNotFoundError",
     "evalue": "[Errno 2] No such file or directory: 'slurm-20141.out'",
     "output_type": "error",
     "traceback": [
      "\u001b[1;31m---------------------------------------------------------------------------\u001b[0m",
      "\u001b[1;31mFileNotFoundError\u001b[0m                         Traceback (most recent call last)",
      "Cell \u001b[1;32mIn[4], line 14\u001b[0m\n\u001b[0;32m      9\u001b[0m \u001b[39mfor\u001b[39;00m slurm_file \u001b[39min\u001b[39;00m slurm_files:\n\u001b[0;32m     10\u001b[0m \n\u001b[0;32m     11\u001b[0m     \u001b[39m# break\u001b[39;00m\n\u001b[0;32m     13\u001b[0m     \u001b[39mprint\u001b[39m(slurm_file)\n\u001b[1;32m---> 14\u001b[0m     \u001b[39mwith\u001b[39;00m \u001b[39mopen\u001b[39;49m(slurm_file, \u001b[39m'\u001b[39;49m\u001b[39mr\u001b[39;49m\u001b[39m'\u001b[39;49m) \u001b[39mas\u001b[39;00m f:\n\u001b[0;32m     15\u001b[0m         lines \u001b[39m=\u001b[39m f\u001b[39m.\u001b[39mreadlines()\n\u001b[0;32m     16\u001b[0m         \u001b[39m# print(len(lines))\u001b[39;00m\n",
      "File \u001b[1;32mc:\\Users\\prana\\miniconda3\\envs\\env_proj\\lib\\site-packages\\IPython\\core\\interactiveshell.py:282\u001b[0m, in \u001b[0;36m_modified_open\u001b[1;34m(file, *args, **kwargs)\u001b[0m\n\u001b[0;32m    275\u001b[0m \u001b[39mif\u001b[39;00m file \u001b[39min\u001b[39;00m {\u001b[39m0\u001b[39m, \u001b[39m1\u001b[39m, \u001b[39m2\u001b[39m}:\n\u001b[0;32m    276\u001b[0m     \u001b[39mraise\u001b[39;00m \u001b[39mValueError\u001b[39;00m(\n\u001b[0;32m    277\u001b[0m         \u001b[39mf\u001b[39m\u001b[39m\"\u001b[39m\u001b[39mIPython won\u001b[39m\u001b[39m'\u001b[39m\u001b[39mt let you open fd=\u001b[39m\u001b[39m{\u001b[39;00mfile\u001b[39m}\u001b[39;00m\u001b[39m by default \u001b[39m\u001b[39m\"\u001b[39m\n\u001b[0;32m    278\u001b[0m         \u001b[39m\"\u001b[39m\u001b[39mas it is likely to crash IPython. If you know what you are doing, \u001b[39m\u001b[39m\"\u001b[39m\n\u001b[0;32m    279\u001b[0m         \u001b[39m\"\u001b[39m\u001b[39myou can use builtins\u001b[39m\u001b[39m'\u001b[39m\u001b[39m open.\u001b[39m\u001b[39m\"\u001b[39m\n\u001b[0;32m    280\u001b[0m     )\n\u001b[1;32m--> 282\u001b[0m \u001b[39mreturn\u001b[39;00m io_open(file, \u001b[39m*\u001b[39;49margs, \u001b[39m*\u001b[39;49m\u001b[39m*\u001b[39;49mkwargs)\n",
      "\u001b[1;31mFileNotFoundError\u001b[0m: [Errno 2] No such file or directory: 'slurm-20141.out'"
     ]
    }
   ],
   "source": [
    "import matplotlib.pyplot as plt\n",
    "\n",
    "slurm_files = [\n",
    "    'slurm-20141.out',\n",
    "    'slurm-20139.out',\n",
    "]\n",
    "\n",
    "\n",
    "for slurm_file in slurm_files:\n",
    "\n",
    "    # break\n",
    "    \n",
    "    print(slurm_file)\n",
    "    with open(slurm_file, 'r') as f:\n",
    "        lines = f.readlines()\n",
    "        # print(len(lines))\n",
    "\n",
    "        \n",
    "        train_losses = []\n",
    "        val_losses = []\n",
    "        for line in lines:\n",
    "            \n",
    "            if 'train loss' in line:\n",
    "                # print(line)\n",
    "                train_loss = line.split()[-4]\n",
    "                train_loss = train_loss[:-1]\n",
    "                val_loss = line.split()[-1]\n",
    "                # print(train_loss, val_loss)\n",
    "                train_losses.append(float(train_loss))\n",
    "                val_losses.append(float(val_loss))\n",
    "\n",
    "            \n",
    "\n",
    "    plt.plot(train_losses[:9000], label='train loss')\n",
    "    plt.plot(val_losses[:9000], label='val loss')\n",
    "    plt.legend()\n",
    "    plt.show()"
   ]
  },
  {
   "cell_type": "code",
   "execution_count": null,
   "metadata": {},
   "outputs": [],
   "source": []
  }
 ],
 "metadata": {
  "kernelspec": {
   "display_name": "env_proj",
   "language": "python",
   "name": "python3"
  },
  "language_info": {
   "codemirror_mode": {
    "name": "ipython",
    "version": 3
   },
   "file_extension": ".py",
   "mimetype": "text/x-python",
   "name": "python",
   "nbconvert_exporter": "python",
   "pygments_lexer": "ipython3",
   "version": "3.8.16"
  },
  "orig_nbformat": 4
 },
 "nbformat": 4,
 "nbformat_minor": 2
}
